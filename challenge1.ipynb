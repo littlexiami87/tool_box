{
 "cells": [
  {
   "cell_type": "markdown",
   "metadata": {
    "collapsed": true
   },
   "source": [
    "## 1. Load the Data"
   ]
  },
  {
   "cell_type": "code",
   "execution_count": 1,
   "metadata": {
    "collapsed": true
   },
   "outputs": [],
   "source": [
    "import pandas as pd"
   ]
  },
  {
   "cell_type": "code",
   "execution_count": 2,
   "metadata": {
    "collapsed": false
   },
   "outputs": [],
   "source": [
    "df_engagement = pd.read_csv('./takehome_user_engagement.csv')\n",
    "df = pd.read_csv('./takehome_users.csv')"
   ]
  },
  {
   "cell_type": "code",
   "execution_count": 3,
   "metadata": {
    "collapsed": false
   },
   "outputs": [
    {
     "data": {
      "text/html": [
       "<div>\n",
       "<table border=\"1\" class=\"dataframe\">\n",
       "  <thead>\n",
       "    <tr style=\"text-align: right;\">\n",
       "      <th></th>\n",
       "      <th>time_stamp</th>\n",
       "      <th>user_id</th>\n",
       "      <th>visited</th>\n",
       "    </tr>\n",
       "  </thead>\n",
       "  <tbody>\n",
       "    <tr>\n",
       "      <th>0</th>\n",
       "      <td>2014-04-22 03:53:30</td>\n",
       "      <td>1</td>\n",
       "      <td>1</td>\n",
       "    </tr>\n",
       "    <tr>\n",
       "      <th>1</th>\n",
       "      <td>2013-11-15 03:45:04</td>\n",
       "      <td>2</td>\n",
       "      <td>1</td>\n",
       "    </tr>\n",
       "    <tr>\n",
       "      <th>2</th>\n",
       "      <td>2013-11-29 03:45:04</td>\n",
       "      <td>2</td>\n",
       "      <td>1</td>\n",
       "    </tr>\n",
       "  </tbody>\n",
       "</table>\n",
       "</div>"
      ],
      "text/plain": [
       "            time_stamp  user_id  visited\n",
       "0  2014-04-22 03:53:30        1        1\n",
       "1  2013-11-15 03:45:04        2        1\n",
       "2  2013-11-29 03:45:04        2        1"
      ]
     },
     "execution_count": 3,
     "metadata": {},
     "output_type": "execute_result"
    }
   ],
   "source": [
    "df_engagement.head(3)"
   ]
  },
  {
   "cell_type": "code",
   "execution_count": 4,
   "metadata": {
    "collapsed": false
   },
   "outputs": [
    {
     "data": {
      "text/plain": [
       "array([1])"
      ]
     },
     "execution_count": 4,
     "metadata": {},
     "output_type": "execute_result"
    }
   ],
   "source": [
    "df_engagement['visited'].unique()"
   ]
  },
  {
   "cell_type": "markdown",
   "metadata": {},
   "source": [
    "## 2. Define and Label the Adopted User"
   ]
  },
  {
   "cell_type": "markdown",
   "metadata": {},
   "source": [
    "### Convert the time_stamp from string to datetime"
   ]
  },
  {
   "cell_type": "code",
   "execution_count": 5,
   "metadata": {
    "collapsed": true
   },
   "outputs": [],
   "source": [
    "from datetime import datetime \n",
    "def str2time(s): \n",
    "    return datetime.strptime(s, \"%Y-%m-%d %H:%M:%S\")"
   ]
  },
  {
   "cell_type": "code",
   "execution_count": 6,
   "metadata": {
    "collapsed": false
   },
   "outputs": [],
   "source": [
    "df_engagement['time_stamp'] = df_engagement['time_stamp'].apply(str2time)"
   ]
  },
  {
   "cell_type": "markdown",
   "metadata": {},
   "source": [
    "### Group the table takehome_user_engagement by user_id and apply list to the time_stamp columns"
   ]
  },
  {
   "cell_type": "code",
   "execution_count": 7,
   "metadata": {
    "collapsed": false
   },
   "outputs": [],
   "source": [
    "df_engagement_by_user = df_engagement.groupby('user_id', as_index=False).agg({'time_stamp':lambda x: x.tolist()})"
   ]
  },
  {
   "cell_type": "code",
   "execution_count": 8,
   "metadata": {
    "collapsed": false
   },
   "outputs": [
    {
     "data": {
      "text/html": [
       "<div>\n",
       "<table border=\"1\" class=\"dataframe\">\n",
       "  <thead>\n",
       "    <tr style=\"text-align: right;\">\n",
       "      <th></th>\n",
       "      <th>user_id</th>\n",
       "      <th>time_stamp</th>\n",
       "    </tr>\n",
       "  </thead>\n",
       "  <tbody>\n",
       "    <tr>\n",
       "      <th>0</th>\n",
       "      <td>1</td>\n",
       "      <td>[2014-04-22 03:53:30]</td>\n",
       "    </tr>\n",
       "    <tr>\n",
       "      <th>1</th>\n",
       "      <td>2</td>\n",
       "      <td>[2013-11-15 03:45:04, 2013-11-29 03:45:04, 201...</td>\n",
       "    </tr>\n",
       "    <tr>\n",
       "      <th>2</th>\n",
       "      <td>3</td>\n",
       "      <td>[2013-03-19 23:14:52]</td>\n",
       "    </tr>\n",
       "  </tbody>\n",
       "</table>\n",
       "</div>"
      ],
      "text/plain": [
       "   user_id                                         time_stamp\n",
       "0        1                              [2014-04-22 03:53:30]\n",
       "1        2  [2013-11-15 03:45:04, 2013-11-29 03:45:04, 201...\n",
       "2        3                              [2013-03-19 23:14:52]"
      ]
     },
     "execution_count": 8,
     "metadata": {},
     "output_type": "execute_result"
    }
   ],
   "source": [
    "df_engagement_by_user.head(3)"
   ]
  },
  {
   "cell_type": "code",
   "execution_count": 9,
   "metadata": {
    "collapsed": false
   },
   "outputs": [
    {
     "name": "stdout",
     "output_type": "stream",
     "text": [
      "(12000, 10) (207917, 3) (8823, 2)\n"
     ]
    }
   ],
   "source": [
    "print df.shape, df_engagement.shape, df_engagement_by_user.shape"
   ]
  },
  {
   "cell_type": "code",
   "execution_count": 10,
   "metadata": {
    "collapsed": false
   },
   "outputs": [
    {
     "data": {
      "text/plain": [
       "8823"
      ]
     },
     "execution_count": 10,
     "metadata": {},
     "output_type": "execute_result"
    }
   ],
   "source": [
    "len(df_engagement['user_id'].unique())"
   ]
  },
  {
   "cell_type": "markdown",
   "metadata": {},
   "source": [
    "### Based on the definition of an adopted user, the time stamp list should have at least three items and three separate days in at least one seven-day. Insert a feature called ‘adopted_user’ in the takehome_user_engagement table: value 1 means that the user is an adopted user; value 0 means that the user is for not adopted user. "
   ]
  },
  {
   "cell_type": "code",
   "execution_count": 11,
   "metadata": {
    "collapsed": true
   },
   "outputs": [],
   "source": [
    "def check_if_adopted_user(datelist):\n",
    "    if len(datelist) < 3:\n",
    "        return 0\n",
    "    time_diff = [i.day - min(datelist).day for i in datelist]\n",
    "    time_diff = list(set(time_diff))\n",
    "    time_diff.sort()\n",
    "    if len(time_diff) < 3:\n",
    "        return 0\n",
    "    for i in range(len(time_diff) -2):\n",
    "        first = time_diff[i]\n",
    "        second = time_diff[i+1]\n",
    "        third = time_diff[i+2]\n",
    "        if third - first < 7:\n",
    "            return 1\n",
    "        else:\n",
    "            continue\n",
    "    return 0"
   ]
  },
  {
   "cell_type": "code",
   "execution_count": 12,
   "metadata": {
    "collapsed": false
   },
   "outputs": [],
   "source": [
    "df_engagement_by_user['adopted_user']= df_engagement_by_user['time_stamp'].apply(check_if_adopted_user)"
   ]
  },
  {
   "cell_type": "code",
   "execution_count": 13,
   "metadata": {
    "collapsed": false
   },
   "outputs": [
    {
     "data": {
      "text/html": [
       "<div>\n",
       "<table border=\"1\" class=\"dataframe\">\n",
       "  <thead>\n",
       "    <tr style=\"text-align: right;\">\n",
       "      <th></th>\n",
       "      <th>user_id</th>\n",
       "      <th>time_stamp</th>\n",
       "      <th>adopted_user</th>\n",
       "    </tr>\n",
       "  </thead>\n",
       "  <tbody>\n",
       "    <tr>\n",
       "      <th>0</th>\n",
       "      <td>1</td>\n",
       "      <td>[2014-04-22 03:53:30]</td>\n",
       "      <td>0</td>\n",
       "    </tr>\n",
       "    <tr>\n",
       "      <th>1</th>\n",
       "      <td>2</td>\n",
       "      <td>[2013-11-15 03:45:04, 2013-11-29 03:45:04, 201...</td>\n",
       "      <td>1</td>\n",
       "    </tr>\n",
       "    <tr>\n",
       "      <th>2</th>\n",
       "      <td>3</td>\n",
       "      <td>[2013-03-19 23:14:52]</td>\n",
       "      <td>0</td>\n",
       "    </tr>\n",
       "  </tbody>\n",
       "</table>\n",
       "</div>"
      ],
      "text/plain": [
       "   user_id                                         time_stamp  adopted_user\n",
       "0        1                              [2014-04-22 03:53:30]             0\n",
       "1        2  [2013-11-15 03:45:04, 2013-11-29 03:45:04, 201...             1\n",
       "2        3                              [2013-03-19 23:14:52]             0"
      ]
     },
     "execution_count": 13,
     "metadata": {},
     "output_type": "execute_result"
    }
   ],
   "source": [
    "df_engagement_by_user.head(3)"
   ]
  },
  {
   "cell_type": "code",
   "execution_count": 14,
   "metadata": {
    "collapsed": true
   },
   "outputs": [],
   "source": [
    "df_engagement_by_user.drop(['time_stamp'],axis=1,inplace=True)"
   ]
  },
  {
   "cell_type": "code",
   "execution_count": 15,
   "metadata": {
    "collapsed": true
   },
   "outputs": [],
   "source": [
    "df['creation_time'] = df['creation_time'].apply(str2time)\n",
    "df['last_session_creation_time'] = df['last_session_creation_time'].apply(lambda x: datetime.utcfromtimestamp(x) if x== x else x)"
   ]
  },
  {
   "cell_type": "markdown",
   "metadata": {},
   "source": [
    "### Join the takehome_users table on user_id with the engagement table takehome_user_engagement on object_idwith the takehome_users table."
   ]
  },
  {
   "cell_type": "code",
   "execution_count": 16,
   "metadata": {
    "collapsed": true
   },
   "outputs": [],
   "source": [
    "df_f = df_engagement_by_user.merge(df, left_on='user_id', right_on='object_id', how='outer')"
   ]
  },
  {
   "cell_type": "code",
   "execution_count": 17,
   "metadata": {
    "collapsed": false
   },
   "outputs": [
    {
     "data": {
      "text/html": [
       "<div>\n",
       "<table border=\"1\" class=\"dataframe\">\n",
       "  <thead>\n",
       "    <tr style=\"text-align: right;\">\n",
       "      <th></th>\n",
       "      <th>user_id</th>\n",
       "      <th>adopted_user</th>\n",
       "      <th>object_id</th>\n",
       "      <th>creation_time</th>\n",
       "      <th>name</th>\n",
       "      <th>email</th>\n",
       "      <th>creation_source</th>\n",
       "      <th>last_session_creation_time</th>\n",
       "      <th>opted_in_to_mailing_list</th>\n",
       "      <th>enabled_for_marketing_drip</th>\n",
       "      <th>org_id</th>\n",
       "      <th>invited_by_user_id</th>\n",
       "    </tr>\n",
       "  </thead>\n",
       "  <tbody>\n",
       "    <tr>\n",
       "      <th>0</th>\n",
       "      <td>1.0</td>\n",
       "      <td>0.0</td>\n",
       "      <td>1</td>\n",
       "      <td>2014-04-22 03:53:30</td>\n",
       "      <td>Clausen August</td>\n",
       "      <td>AugustCClausen@yahoo.com</td>\n",
       "      <td>GUEST_INVITE</td>\n",
       "      <td>2014-04-22 03:53:30</td>\n",
       "      <td>1</td>\n",
       "      <td>0</td>\n",
       "      <td>11</td>\n",
       "      <td>10803.0</td>\n",
       "    </tr>\n",
       "    <tr>\n",
       "      <th>1</th>\n",
       "      <td>2.0</td>\n",
       "      <td>1.0</td>\n",
       "      <td>2</td>\n",
       "      <td>2013-11-15 03:45:04</td>\n",
       "      <td>Poole Matthew</td>\n",
       "      <td>MatthewPoole@gustr.com</td>\n",
       "      <td>ORG_INVITE</td>\n",
       "      <td>2014-03-31 03:45:04</td>\n",
       "      <td>0</td>\n",
       "      <td>0</td>\n",
       "      <td>1</td>\n",
       "      <td>316.0</td>\n",
       "    </tr>\n",
       "    <tr>\n",
       "      <th>2</th>\n",
       "      <td>3.0</td>\n",
       "      <td>0.0</td>\n",
       "      <td>3</td>\n",
       "      <td>2013-03-19 23:14:52</td>\n",
       "      <td>Bottrill Mitchell</td>\n",
       "      <td>MitchellBottrill@gustr.com</td>\n",
       "      <td>ORG_INVITE</td>\n",
       "      <td>2013-03-19 23:14:52</td>\n",
       "      <td>0</td>\n",
       "      <td>0</td>\n",
       "      <td>94</td>\n",
       "      <td>1525.0</td>\n",
       "    </tr>\n",
       "  </tbody>\n",
       "</table>\n",
       "</div>"
      ],
      "text/plain": [
       "   user_id  adopted_user  object_id       creation_time               name  \\\n",
       "0      1.0           0.0          1 2014-04-22 03:53:30     Clausen August   \n",
       "1      2.0           1.0          2 2013-11-15 03:45:04      Poole Matthew   \n",
       "2      3.0           0.0          3 2013-03-19 23:14:52  Bottrill Mitchell   \n",
       "\n",
       "                        email creation_source last_session_creation_time  \\\n",
       "0    AugustCClausen@yahoo.com    GUEST_INVITE        2014-04-22 03:53:30   \n",
       "1      MatthewPoole@gustr.com      ORG_INVITE        2014-03-31 03:45:04   \n",
       "2  MitchellBottrill@gustr.com      ORG_INVITE        2013-03-19 23:14:52   \n",
       "\n",
       "   opted_in_to_mailing_list  enabled_for_marketing_drip  org_id  \\\n",
       "0                         1                           0      11   \n",
       "1                         0                           0       1   \n",
       "2                         0                           0      94   \n",
       "\n",
       "   invited_by_user_id  \n",
       "0             10803.0  \n",
       "1               316.0  \n",
       "2              1525.0  "
      ]
     },
     "execution_count": 17,
     "metadata": {},
     "output_type": "execute_result"
    }
   ],
   "source": [
    "df_f.head(3)"
   ]
  },
  {
   "cell_type": "code",
   "execution_count": 18,
   "metadata": {
    "collapsed": false
   },
   "outputs": [
    {
     "data": {
      "text/plain": [
       "(12000, 12)"
      ]
     },
     "execution_count": 18,
     "metadata": {},
     "output_type": "execute_result"
    }
   ],
   "source": [
    "df_f.shape"
   ]
  },
  {
   "cell_type": "markdown",
   "metadata": {},
   "source": [
    "### Fill none values in 'adopted_user' column"
   ]
  },
  {
   "cell_type": "code",
   "execution_count": 19,
   "metadata": {
    "collapsed": false
   },
   "outputs": [
    {
     "data": {
      "text/plain": [
       "array([  0.,   1.,  nan])"
      ]
     },
     "execution_count": 19,
     "metadata": {},
     "output_type": "execute_result"
    }
   ],
   "source": [
    "df_f['adopted_user'].unique()"
   ]
  },
  {
   "cell_type": "code",
   "execution_count": 20,
   "metadata": {
    "collapsed": true
   },
   "outputs": [],
   "source": [
    "df_f['adopted_user'] = df_f['adopted_user'].apply(lambda x: 0 if x != x else x)"
   ]
  },
  {
   "cell_type": "code",
   "execution_count": 21,
   "metadata": {
    "collapsed": false
   },
   "outputs": [
    {
     "data": {
      "text/plain": [
       "array([ 0.,  1.])"
      ]
     },
     "execution_count": 21,
     "metadata": {},
     "output_type": "execute_result"
    }
   ],
   "source": [
    "df_f['adopted_user'].unique()"
   ]
  },
  {
   "cell_type": "markdown",
   "metadata": {},
   "source": [
    "## 3. Exploratary Data Analysis"
   ]
  },
  {
   "cell_type": "code",
   "execution_count": 22,
   "metadata": {
    "collapsed": false
   },
   "outputs": [
    {
     "data": {
      "text/plain": [
       "Counter({0.0: 10240, 1.0: 1760})"
      ]
     },
     "execution_count": 22,
     "metadata": {},
     "output_type": "execute_result"
    }
   ],
   "source": [
    "from collections import Counter\n",
    "Counter(df_f['adopted_user'])"
   ]
  },
  {
   "cell_type": "code",
   "execution_count": 23,
   "metadata": {
    "collapsed": true
   },
   "outputs": [],
   "source": [
    "df_f['if_invited'] = df_f['invited_by_user_id'].apply(lambda x: 1 if x == x else 0)"
   ]
  },
  {
   "cell_type": "markdown",
   "metadata": {},
   "source": [
    "### Generate this new feature by extracting the domain of the email"
   ]
  },
  {
   "cell_type": "code",
   "execution_count": 24,
   "metadata": {
    "collapsed": false
   },
   "outputs": [],
   "source": [
    "df_f['email_domain'] = df_f['email'].apply(lambda x: x.split('@')[1].split('.')[0])"
   ]
  },
  {
   "cell_type": "code",
   "execution_count": 25,
   "metadata": {
    "collapsed": false,
    "scrolled": true
   },
   "outputs": [
    {
     "data": {
      "text/plain": [
       "[('gmail', 3562),\n",
       " ('yahoo', 2447),\n",
       " ('jourrapide', 1259),\n",
       " ('cuvox', 1202),\n",
       " ('gustr', 1179),\n",
       " ('hotmail', 1165),\n",
       " ('luque', 2),\n",
       " ('qgjbc', 2),\n",
       " ('dqwln', 2),\n",
       " ('rerwl', 2),\n",
       " ('oqpze', 2),\n",
       " ('xvnbr', 2),\n",
       " ('xybhi', 2),\n",
       " ('mumdc', 2),\n",
       " ('rqbhi', 1),\n",
       " ('ilhbl', 1),\n",
       " ('qotem', 1),\n",
       " ('uhbku', 1),\n",
       " ('cyqff', 1),\n",
       " ('pfgnw', 1)]"
      ]
     },
     "execution_count": 25,
     "metadata": {},
     "output_type": "execute_result"
    }
   ],
   "source": [
    "Counter(df_f['email_domain']).most_common(20)"
   ]
  },
  {
   "cell_type": "markdown",
   "metadata": {},
   "source": [
    "### Only pick the top 7 domain based on the frequency, and tag all the rest as ‘others’."
   ]
  },
  {
   "cell_type": "code",
   "execution_count": 26,
   "metadata": {
    "collapsed": false
   },
   "outputs": [],
   "source": [
    "df_f['email_domain']=df_f['email_domain'].apply(lambda x: x if x in ['gmail', 'yahoo','jourrapide','cuvox', 'gustr', 'hotmail'] else 'others' )"
   ]
  },
  {
   "cell_type": "markdown",
   "metadata": {},
   "source": [
    "### Create ‘if_invited_adopted’ feature based on feature ‘adopted_user’ and ‘invited_by_user_id’. There are three values in this feature. 1: invited by an adopted user; 0: invited by a user who is not an adopted user; -1: not invited by any user."
   ]
  },
  {
   "cell_type": "code",
   "execution_count": 27,
   "metadata": {
    "collapsed": true
   },
   "outputs": [],
   "source": [
    "df_f['adopted_user']=df_f['adopted_user'].apply(int)"
   ]
  },
  {
   "cell_type": "code",
   "execution_count": 28,
   "metadata": {
    "collapsed": true
   },
   "outputs": [],
   "source": [
    "adopted_user_id = df_f[df_f['adopted_user']==1]['user_id'].tolist()\n",
    "df_f['if_invited_adpoted'] = df_f['invited_by_user_id'].apply(lambda x: -1 if x != x else 1 if x in adopted_user_id else 0)"
   ]
  },
  {
   "cell_type": "code",
   "execution_count": 29,
   "metadata": {
    "collapsed": false,
    "scrolled": true
   },
   "outputs": [
    {
     "data": {
      "text/plain": [
       "[(0, 319),\n",
       " (1, 233),\n",
       " (2, 201),\n",
       " (3, 168),\n",
       " (4, 159),\n",
       " (6, 138),\n",
       " (5, 128),\n",
       " (9, 124),\n",
       " (7, 119),\n",
       " (10, 104),\n",
       " (8, 97),\n",
       " (14, 87),\n",
       " (11, 75),\n",
       " (12, 75),\n",
       " (17, 74),\n",
       " (18, 73),\n",
       " (13, 72),\n",
       " (16, 72),\n",
       " (20, 68),\n",
       " (15, 64)]"
      ]
     },
     "execution_count": 29,
     "metadata": {},
     "output_type": "execute_result"
    }
   ],
   "source": [
    "len(df_f['org_id'].unique())\n",
    "org_count = Counter(df_f['org_id'].tolist())\n",
    "org_count.most_common(20)"
   ]
  },
  {
   "cell_type": "markdown",
   "metadata": {},
   "source": [
    "### Drop irrelavent features"
   ]
  },
  {
   "cell_type": "code",
   "execution_count": 30,
   "metadata": {
    "collapsed": true
   },
   "outputs": [],
   "source": [
    "df_f.drop(['object_id','name', 'creation_time','email','last_session_creation_time','invited_by_user_id'],axis=1,inplace=True)"
   ]
  },
  {
   "cell_type": "code",
   "execution_count": 31,
   "metadata": {
    "collapsed": false,
    "scrolled": true
   },
   "outputs": [
    {
     "data": {
      "text/html": [
       "<div>\n",
       "<table border=\"1\" class=\"dataframe\">\n",
       "  <thead>\n",
       "    <tr style=\"text-align: right;\">\n",
       "      <th></th>\n",
       "      <th>user_id</th>\n",
       "      <th>adopted_user</th>\n",
       "      <th>creation_source</th>\n",
       "      <th>opted_in_to_mailing_list</th>\n",
       "      <th>enabled_for_marketing_drip</th>\n",
       "      <th>org_id</th>\n",
       "      <th>if_invited</th>\n",
       "      <th>email_domain</th>\n",
       "      <th>if_invited_adpoted</th>\n",
       "    </tr>\n",
       "  </thead>\n",
       "  <tbody>\n",
       "    <tr>\n",
       "      <th>0</th>\n",
       "      <td>1.0</td>\n",
       "      <td>0</td>\n",
       "      <td>GUEST_INVITE</td>\n",
       "      <td>1</td>\n",
       "      <td>0</td>\n",
       "      <td>11</td>\n",
       "      <td>1</td>\n",
       "      <td>yahoo</td>\n",
       "      <td>0</td>\n",
       "    </tr>\n",
       "    <tr>\n",
       "      <th>1</th>\n",
       "      <td>2.0</td>\n",
       "      <td>1</td>\n",
       "      <td>ORG_INVITE</td>\n",
       "      <td>0</td>\n",
       "      <td>0</td>\n",
       "      <td>1</td>\n",
       "      <td>1</td>\n",
       "      <td>gustr</td>\n",
       "      <td>0</td>\n",
       "    </tr>\n",
       "    <tr>\n",
       "      <th>2</th>\n",
       "      <td>3.0</td>\n",
       "      <td>0</td>\n",
       "      <td>ORG_INVITE</td>\n",
       "      <td>0</td>\n",
       "      <td>0</td>\n",
       "      <td>94</td>\n",
       "      <td>1</td>\n",
       "      <td>gustr</td>\n",
       "      <td>1</td>\n",
       "    </tr>\n",
       "  </tbody>\n",
       "</table>\n",
       "</div>"
      ],
      "text/plain": [
       "   user_id  adopted_user creation_source  opted_in_to_mailing_list  \\\n",
       "0      1.0             0    GUEST_INVITE                         1   \n",
       "1      2.0             1      ORG_INVITE                         0   \n",
       "2      3.0             0      ORG_INVITE                         0   \n",
       "\n",
       "   enabled_for_marketing_drip  org_id  if_invited email_domain  \\\n",
       "0                           0      11           1        yahoo   \n",
       "1                           0       1           1        gustr   \n",
       "2                           0      94           1        gustr   \n",
       "\n",
       "   if_invited_adpoted  \n",
       "0                   0  \n",
       "1                   0  \n",
       "2                   1  "
      ]
     },
     "execution_count": 31,
     "metadata": {},
     "output_type": "execute_result"
    }
   ],
   "source": [
    "df_f.head(3)"
   ]
  },
  {
   "cell_type": "markdown",
   "metadata": {},
   "source": [
    "### Define functions check_ratio and check_cnt to figure out the distribution of each feature for if_invited_adopted column"
   ]
  },
  {
   "cell_type": "code",
   "execution_count": 32,
   "metadata": {
    "collapsed": false
   },
   "outputs": [],
   "source": [
    "def check_ratio(df, s):\n",
    "    check = df[s].unique().tolist()\n",
    "    result = {}\n",
    "    for i in check:\n",
    "        tmp = dict(Counter(df[df[s]==i]['adopted_user']))\n",
    "        result[i] = tmp[1]*1.0/(tmp[0]+tmp[1])\n",
    "    return sorted(result.items(), key=lambda x: x[1], reverse=True)"
   ]
  },
  {
   "cell_type": "code",
   "execution_count": 33,
   "metadata": {
    "collapsed": false
   },
   "outputs": [],
   "source": [
    "def check_cnt(df, s):\n",
    "    check = df[s].unique().tolist()\n",
    "    result = {}\n",
    "    for i in check:\n",
    "        result[i] = dict(Counter(df[df[s]==i]['adopted_user'])).items()\n",
    "    return result"
   ]
  },
  {
   "cell_type": "code",
   "execution_count": 34,
   "metadata": {
    "collapsed": false
   },
   "outputs": [
    {
     "data": {
      "text/plain": [
       "[('SIGNUP_GOOGLE_AUTH', 0.18411552346570398),\n",
       " ('GUEST_INVITE', 0.1821544151641239),\n",
       " ('SIGNUP', 0.1509343555342597),\n",
       " ('ORG_INVITE', 0.14456981664315938),\n",
       " ('PERSONAL_PROJECTS', 0.08574135480814779)]"
      ]
     },
     "execution_count": 34,
     "metadata": {},
     "output_type": "execute_result"
    }
   ],
   "source": [
    "check_ratio(df_f, 'creation_source')"
   ]
  },
  {
   "cell_type": "code",
   "execution_count": 35,
   "metadata": {
    "collapsed": false
   },
   "outputs": [
    {
     "name": "stdout",
     "output_type": "stream",
     "text": [
      "[(1, 0.21724137931034482), (0, 0.14399847821951683), (-1, 0.13451549346229624)] {0: [(0, 4500), (1, 757)], 1: [(0, 908), (1, 252)], -1: [(0, 4832), (1, 751)]}\n"
     ]
    }
   ],
   "source": [
    "print check_ratio(df_f, 'if_invited_adpoted'), check_cnt(df_f, 'if_invited_adpoted')"
   ]
  },
  {
   "cell_type": "code",
   "execution_count": 36,
   "metadata": {
    "collapsed": false,
    "scrolled": false
   },
   "outputs": [
    {
     "data": {
      "text/plain": [
       "[('SIGNUP_GOOGLE_AUTH', 0.18411552346570398),\n",
       " ('GUEST_INVITE', 0.1821544151641239),\n",
       " ('SIGNUP', 0.1509343555342597),\n",
       " ('ORG_INVITE', 0.14456981664315938),\n",
       " ('PERSONAL_PROJECTS', 0.08574135480814779)]"
      ]
     },
     "execution_count": 36,
     "metadata": {},
     "output_type": "execute_result"
    }
   ],
   "source": [
    "c = check_ratio(df_f, 'creation_source')\n",
    "c"
   ]
  },
  {
   "cell_type": "code",
   "execution_count": 37,
   "metadata": {
    "collapsed": true
   },
   "outputs": [],
   "source": [
    "import numpy as np\n",
    "from matplotlib import pyplot as plt\n",
    "%matplotlib inline"
   ]
  },
  {
   "cell_type": "code",
   "execution_count": 38,
   "metadata": {
    "collapsed": false
   },
   "outputs": [
    {
     "data": {
      "image/png": "[encoded data removed]",
      "text/plain": [
       "<matplotlib.figure.Figure at 0x118d60490>"
      ]
     },
     "metadata": {},
     "output_type": "display_data"
    }
   ],
   "source": [
    "x = zip(*c)[0]\n",
    "y = zip(*c)[1]\n",
    "x_pos = np.arange(len(x)) \n",
    "  \n",
    "plt.bar(x_pos, y ,align='center',color = 'blue',alpha = 0.5, width = 0.5)\n",
    "plt.xticks(x_pos, x, rotation='vertical') \n",
    "plt.ylabel('Adopted User Ratio')\n",
    "plt.tight_layout()\n",
    "plt.savefig('creation_source.png')"
   ]
  },
  {
   "cell_type": "code",
   "execution_count": 39,
   "metadata": {
    "collapsed": false
   },
   "outputs": [
    {
     "data": {
      "text/plain": [
       "[(1, 0.1492985971943888), (0, 0.14579169442593826)]"
      ]
     },
     "execution_count": 39,
     "metadata": {},
     "output_type": "execute_result"
    }
   ],
   "source": [
    "o = check_ratio(df_f, 'opted_in_to_mailing_list')\n",
    "o"
   ]
  },
  {
   "cell_type": "code",
   "execution_count": 40,
   "metadata": {
    "collapsed": false
   },
   "outputs": [
    {
     "data": {
      "image/png": "[encoded data removed]",
      "text/plain": [
       "<matplotlib.figure.Figure at 0x118da4390>"
      ]
     },
     "metadata": {},
     "output_type": "display_data"
    }
   ],
   "source": [
    "x = zip(*o)[0]\n",
    "y = zip(*o)[1]\n",
    "x_pos = np.arange(len(x)) \n",
    "  \n",
    "plt.bar(x_pos, y ,align='center',color = 'blue',alpha = 0.5, width = 0.5)\n",
    "plt.xticks(x_pos, x) \n",
    "plt.ylabel('Adopted User Ratio')\n",
    "plt.tight_layout()"
   ]
  },
  {
   "cell_type": "code",
   "execution_count": 41,
   "metadata": {
    "collapsed": false
   },
   "outputs": [
    {
     "data": {
      "text/plain": [
       "[(1, 0.15234375), (0, 0.14567006269592475)]"
      ]
     },
     "execution_count": 41,
     "metadata": {},
     "output_type": "execute_result"
    }
   ],
   "source": [
    "e = check_ratio(df_f, 'enabled_for_marketing_drip')\n",
    "e"
   ]
  },
  {
   "cell_type": "code",
   "execution_count": 42,
   "metadata": {
    "collapsed": false
   },
   "outputs": [
    {
     "data": {
      "image/png": "[encoded data removed]",
      "text/plain": [
       "<matplotlib.figure.Figure at 0x11c094910>"
      ]
     },
     "metadata": {},
     "output_type": "display_data"
    }
   ],
   "source": [
    "x = zip(*e)[0]\n",
    "y = zip(*e)[1]\n",
    "x_pos = np.arange(len(x)) \n",
    "  \n",
    "plt.bar(x_pos, y ,align='center',color = 'blue',alpha = 0.5, width = 0.5)\n",
    "plt.xticks(x_pos, x) \n",
    "plt.ylabel('Adopted User Ratio')\n",
    "plt.tight_layout()"
   ]
  },
  {
   "cell_type": "code",
   "execution_count": 43,
   "metadata": {
    "collapsed": false
   },
   "outputs": [
    {
     "data": {
      "text/plain": [
       "[('hotmail', 0.18283261802575107),\n",
       " ('gmail', 0.1664795058955643),\n",
       " ('others', 0.15008431703204048),\n",
       " ('jourrapide', 0.13899920571882446),\n",
       " ('gustr', 0.13401187446988974),\n",
       " ('cuvox', 0.1264559068219634),\n",
       " ('yahoo', 0.11892112791172865)]"
      ]
     },
     "execution_count": 43,
     "metadata": {},
     "output_type": "execute_result"
    }
   ],
   "source": [
    "d = check_ratio(df_f, 'email_domain')\n",
    "d"
   ]
  },
  {
   "cell_type": "code",
   "execution_count": 44,
   "metadata": {
    "collapsed": false
   },
   "outputs": [
    {
     "data": {
      "image/png": "[encoded data removed]",
      "text/plain": [
       "<matplotlib.figure.Figure at 0x11c0db3d0>"
      ]
     },
     "metadata": {},
     "output_type": "display_data"
    }
   ],
   "source": [
    "x = zip(*d)[0]\n",
    "y = zip(*d)[1]\n",
    "x_pos = np.arange(len(x)) \n",
    "  \n",
    "plt.bar(x_pos, y ,align='center',color = 'blue',alpha = 0.5, width = 0.5)\n",
    "plt.xticks(x_pos, x, rotation='vertical') \n",
    "plt.ylabel('Adopted User Ratio')\n",
    "plt.tight_layout()\n",
    "plt.savefig('email_domain.png')"
   ]
  },
  {
   "cell_type": "code",
   "execution_count": 45,
   "metadata": {
    "collapsed": false
   },
   "outputs": [
    {
     "data": {
      "text/plain": [
       "[(1, 0.21724137931034482), (0, 0.14399847821951683), (-1, 0.13451549346229624)]"
      ]
     },
     "execution_count": 45,
     "metadata": {},
     "output_type": "execute_result"
    }
   ],
   "source": [
    "i = check_ratio(df_f, 'if_invited_adpoted')\n",
    "i"
   ]
  },
  {
   "cell_type": "code",
   "execution_count": 46,
   "metadata": {
    "collapsed": false
   },
   "outputs": [
    {
     "data": {
      "image/png": "[encoded data removed]",
      "text/plain": [
       "<matplotlib.figure.Figure at 0x11c28f110>"
      ]
     },
     "metadata": {},
     "output_type": "display_data"
    }
   ],
   "source": [
    "x = ['not invited','invited by non adpoted','invited by adopted']\n",
    "y = zip(*i)[1]\n",
    "x_pos = np.arange(len(x)) \n",
    "\n",
    "plt.bar(x_pos, y ,align='center',color = 'blue',alpha = 0.5, width = 0.5)\n",
    "plt.xticks(x_pos, x) \n",
    "plt.ylabel('Adopted User Ratio')\n",
    "plt.tight_layout()\n",
    "plt.savefig('invited.png')"
   ]
  },
  {
   "cell_type": "code",
   "execution_count": 47,
   "metadata": {
    "collapsed": false,
    "scrolled": true
   },
   "outputs": [
    {
     "data": {
      "image/png": "[encoded data removed]",
      "text/plain": [
       "<matplotlib.figure.Figure at 0x11c0db910>"
      ]
     },
     "metadata": {},
     "output_type": "display_data"
    }
   ],
   "source": [
    "x = ['invited by adopted','not invited','invited by non adpoted']\n",
    "y1 = zip(*i)[1]\n",
    "y2 = [1 - y for y in y1]\n",
    "x_pos = np.arange(len(x)) \n",
    "\n",
    "p1 = plt.bar(x_pos, y1, align = 'center', color = 'blue',alpha = 0.5, width = 0.5)\n",
    "p2 = plt.bar(x_pos, y2, bottom=y1,align = 'center',  color = 'red',alpha = 0.5, width = 0.5)\n",
    "plt.xticks(x_pos, x) \n",
    "plt.ylabel('Adopted User Ratio')\n",
    "plt.legend((p1[0], p2[0]), ('Adopted user ratio', 'Not adopted user ratio'))\n",
    "plt.ylim((0,1.5))\n",
    "plt.savefig('invited2.png')"
   ]
  },
  {
   "cell_type": "markdown",
   "metadata": {},
   "source": [
    "## 4. Machine Learning (Classification)"
   ]
  },
  {
   "cell_type": "code",
   "execution_count": 48,
   "metadata": {
    "collapsed": false
   },
   "outputs": [
    {
     "data": {
      "text/html": [
       "<div>\n",
       "<table border=\"1\" class=\"dataframe\">\n",
       "  <thead>\n",
       "    <tr style=\"text-align: right;\">\n",
       "      <th></th>\n",
       "      <th>user_id</th>\n",
       "      <th>adopted_user</th>\n",
       "      <th>creation_source</th>\n",
       "      <th>opted_in_to_mailing_list</th>\n",
       "      <th>enabled_for_marketing_drip</th>\n",
       "      <th>org_id</th>\n",
       "      <th>if_invited</th>\n",
       "      <th>email_domain</th>\n",
       "      <th>if_invited_adpoted</th>\n",
       "    </tr>\n",
       "  </thead>\n",
       "  <tbody>\n",
       "    <tr>\n",
       "      <th>0</th>\n",
       "      <td>1.0</td>\n",
       "      <td>0</td>\n",
       "      <td>GUEST_INVITE</td>\n",
       "      <td>1</td>\n",
       "      <td>0</td>\n",
       "      <td>11</td>\n",
       "      <td>1</td>\n",
       "      <td>yahoo</td>\n",
       "      <td>0</td>\n",
       "    </tr>\n",
       "    <tr>\n",
       "      <th>1</th>\n",
       "      <td>2.0</td>\n",
       "      <td>1</td>\n",
       "      <td>ORG_INVITE</td>\n",
       "      <td>0</td>\n",
       "      <td>0</td>\n",
       "      <td>1</td>\n",
       "      <td>1</td>\n",
       "      <td>gustr</td>\n",
       "      <td>0</td>\n",
       "    </tr>\n",
       "    <tr>\n",
       "      <th>2</th>\n",
       "      <td>3.0</td>\n",
       "      <td>0</td>\n",
       "      <td>ORG_INVITE</td>\n",
       "      <td>0</td>\n",
       "      <td>0</td>\n",
       "      <td>94</td>\n",
       "      <td>1</td>\n",
       "      <td>gustr</td>\n",
       "      <td>1</td>\n",
       "    </tr>\n",
       "  </tbody>\n",
       "</table>\n",
       "</div>"
      ],
      "text/plain": [
       "   user_id  adopted_user creation_source  opted_in_to_mailing_list  \\\n",
       "0      1.0             0    GUEST_INVITE                         1   \n",
       "1      2.0             1      ORG_INVITE                         0   \n",
       "2      3.0             0      ORG_INVITE                         0   \n",
       "\n",
       "   enabled_for_marketing_drip  org_id  if_invited email_domain  \\\n",
       "0                           0      11           1        yahoo   \n",
       "1                           0       1           1        gustr   \n",
       "2                           0      94           1        gustr   \n",
       "\n",
       "   if_invited_adpoted  \n",
       "0                   0  \n",
       "1                   0  \n",
       "2                   1  "
      ]
     },
     "execution_count": 48,
     "metadata": {},
     "output_type": "execute_result"
    }
   ],
   "source": [
    "df_f.head(3)"
   ]
  },
  {
   "cell_type": "code",
   "execution_count": 49,
   "metadata": {
    "collapsed": true
   },
   "outputs": [],
   "source": [
    "df_f.drop(['user_id'], axis = 1, inplace = True)"
   ]
  },
  {
   "cell_type": "markdown",
   "metadata": {},
   "source": [
    "### Use one hot encoding to convert each value in categorical data to dummy features"
   ]
  },
  {
   "cell_type": "code",
   "execution_count": 50,
   "metadata": {
    "collapsed": false
   },
   "outputs": [],
   "source": [
    "X = df_f.drop(['adopted_user'],axis=1)\n",
    "y = df_f['adopted_user']\n",
    "X_f = pd.get_dummies(X, columns=['creation_source','org_id','email_domain','if_invited_adpoted'])"
   ]
  },
  {
   "cell_type": "code",
   "execution_count": 51,
   "metadata": {
    "collapsed": false
   },
   "outputs": [
    {
     "data": {
      "text/plain": [
       "(12000, 435)"
      ]
     },
     "execution_count": 51,
     "metadata": {},
     "output_type": "execute_result"
    }
   ],
   "source": [
    "X_f.shape"
   ]
  },
  {
   "cell_type": "code",
   "execution_count": 52,
   "metadata": {
    "collapsed": false
   },
   "outputs": [],
   "source": [
    "from sklearn import preprocessing\n",
    "from sklearn.cross_validation import train_test_split,StratifiedShuffleSplit\n",
    "\n",
    "from sklearn.linear_model import LogisticRegression\n",
    "from sklearn.grid_search import GridSearchCV\n",
    "from sklearn.metrics import confusion_matrix,roc_curve, auc,roc_auc_score, accuracy_score\n",
    "from sklearn.metrics import (precision_score, recall_score, f1_score)\n",
    "from sklearn.metrics import (precision_score, recall_score, f1_score)\n",
    "from sklearn.metrics import classification_report\n",
    "import math"
   ]
  },
  {
   "cell_type": "markdown",
   "metadata": {},
   "source": [
    "### Split training and testing data"
   ]
  },
  {
   "cell_type": "code",
   "execution_count": 53,
   "metadata": {
    "collapsed": false
   },
   "outputs": [],
   "source": [
    "X_train, X_test, y_train, y_test = train_test_split(X_f, y, test_size=0.25, stratify=y, random_state=0)   "
   ]
  },
  {
   "cell_type": "markdown",
   "metadata": {},
   "source": [
    "### Use 5-fold cross validation in grid search to find the optimal the hyper parameteparameter, C"
   ]
  },
  {
   "cell_type": "code",
   "execution_count": 54,
   "metadata": {
    "collapsed": false
   },
   "outputs": [
    {
     "name": "stdout",
     "output_type": "stream",
     "text": [
      "Best estimator found by grid search:\n",
      "LogisticRegression(C=0.25, class_weight='balanced', dual=False,\n",
      "          fit_intercept=True, intercept_scaling=1, max_iter=100,\n",
      "          multi_class='ovr', n_jobs=-1, penalty='l1', random_state=0,\n",
      "          solver='liblinear', tol=0.0001, verbose=0, warm_start=False)\n"
     ]
    }
   ],
   "source": [
    "clf_g_l1 = GridSearchCV(\n",
    "    estimator = LogisticRegression(class_weight='balanced', \n",
    "                                   penalty='l1',\n",
    "                                   random_state=0,\n",
    "                                   n_jobs=-1), \n",
    "    param_grid = {'C': [0.01,0.025, 0.05,0.075, 0.1, 0.25, 0.5,0.75, 1]},\n",
    "    scoring='recall', \n",
    "    cv=5,\n",
    "    n_jobs = -1)\n",
    "clf_g_l1.fit(X_train, y_train)\n",
    "    \n",
    "print \"Best estimator found by grid search:\"\n",
    "print clf_g_l1.best_estimator_"
   ]
  },
  {
   "cell_type": "code",
   "execution_count": 55,
   "metadata": {
    "collapsed": true
   },
   "outputs": [],
   "source": [
    "def print_grid_score(clf_g_l1):\n",
    "    score_result = clf_g_l1.grid_scores_\n",
    "    for i in sorted(score_result, key=lambda x: x[1],reverse=True):\n",
    "        print i"
   ]
  },
  {
   "cell_type": "code",
   "execution_count": 56,
   "metadata": {
    "collapsed": false,
    "scrolled": true
   },
   "outputs": [
    {
     "name": "stdout",
     "output_type": "stream",
     "text": [
      "mean: 0.61591, std: 0.03255, params: {'C': 0.25}\n",
      "mean: 0.60379, std: 0.04263, params: {'C': 0.05}\n",
      "mean: 0.59697, std: 0.02069, params: {'C': 0.025}\n",
      "mean: 0.59545, std: 0.03532, params: {'C': 0.1}\n",
      "mean: 0.59394, std: 0.03508, params: {'C': 0.075}\n",
      "mean: 0.56212, std: 0.03823, params: {'C': 0.5}\n",
      "mean: 0.53864, std: 0.03408, params: {'C': 0.75}\n",
      "mean: 0.52273, std: 0.02646, params: {'C': 1}\n",
      "mean: 0.16970, std: 0.13342, params: {'C': 0.01}\n"
     ]
    }
   ],
   "source": [
    "print_grid_score(clf_g_l1)"
   ]
  },
  {
   "cell_type": "markdown",
   "metadata": {},
   "source": [
    "### Validate the performance of logistic regression model"
   ]
  },
  {
   "cell_type": "code",
   "execution_count": 57,
   "metadata": {
    "collapsed": true
   },
   "outputs": [],
   "source": [
    "def model_eval(clf, X_train, y_train, X_test, y_test):\n",
    "    try:\n",
    "        y_train_pred = clf.predict(X_train)\n",
    "        y_train_prob = [i[1] for i in clf.predict_proba(X_train)]\n",
    "    \n",
    "        y_test_pred = clf.predict(X_test)\n",
    "        y_test_prob = [i[1] for i in clf.predict_proba(X_test)]\n",
    "    except:\n",
    "        y_train_prob = clf.predict(X_train)\n",
    "        y_train_pred = [1 if i >=0.5 else 0 for i in y_train_prob]\n",
    "        y_test_prob = clf.predict(X_test)\n",
    "        y_test_pred = [1 if i >=0.5 else 0 for i in y_test_prob]\n",
    "        \n",
    "    \n",
    "    print('>>>>>>>>>>>>>>>>>>>>>>>>>>>>>>>')\n",
    "    print('Training Result: ')\n",
    "    print('Precison: %.3f' % precision_score(y_train, y_train_pred))\n",
    "    print('Recall: %.3f' % recall_score(y_train, y_train_pred))\n",
    "    print('F1: %.3f' % f1_score(y_train, y_train_pred))\n",
    "    print('ROC AUC: %.3f' % roc_auc_score(y_train, y_train_prob))\n",
    "    labels = [0, 1]\n",
    "    confmat = confusion_matrix(y_true=y_train, y_pred=y_train_pred)\n",
    "    print(confmat)\n",
    "    fig, ax = plt.subplots(figsize=(3, 3))\n",
    "    ax.matshow(confmat, cmap=plt.cm.Blues, alpha=0.3)\n",
    "    tick_marks = np.arange(2)\n",
    "    plt.xticks(tick_marks, labels)\n",
    "    plt.yticks(tick_marks, labels)\n",
    "    for i in range(confmat.shape[0]):\n",
    "        for j in range(confmat.shape[1]):\n",
    "            ax.text(x=j, y=i, s=confmat[i, j], va='center', ha='center')\n",
    "\n",
    "    plt.xlabel('predicted label')\n",
    "    plt.ylabel('true label')\n",
    "\n",
    "    plt.tight_layout()\n",
    "    plt.grid('off',which='major')\n",
    "    plt.show()\n",
    "    \n",
    "    print('>>>>>>>>>>>>>>>>>>>>>>>>>>>>>>>')\n",
    "    print('Test Result: ')    \n",
    "    print('Precison: %.3f' % precision_score(y_test, y_test_pred))\n",
    "    print('Recall: %.3f' % recall_score(y_test, y_test_pred))\n",
    "    print('F1: %.3f' % f1_score(y_test, y_test_pred))\n",
    "    print('ROC AUC: %.3f' % roc_auc_score(y_test, y_test_prob))\n",
    "    \n",
    "    labels = [0, 1]\n",
    "    confmat = confusion_matrix(y_true=y_test, y_pred=y_test_pred)\n",
    "    print(confmat)\n",
    "    fig, ax = plt.subplots(figsize=(3, 3))\n",
    "    ax.matshow(confmat, cmap=plt.cm.Blues, alpha=0.3)\n",
    "    tick_marks = np.arange(2)\n",
    "    plt.xticks(tick_marks, labels)\n",
    "    plt.yticks(tick_marks, labels)\n",
    "    for i in range(confmat.shape[0]):\n",
    "        for j in range(confmat.shape[1]):\n",
    "            ax.text(x=j, y=i, s=confmat[i, j], va='center', ha='center')\n",
    "\n",
    "    plt.xlabel('predicted label')\n",
    "    plt.ylabel('true label')\n",
    "\n",
    "    plt.tight_layout()\n",
    "    plt.grid('off',which='major')\n",
    "    plt.show()"
   ]
  },
  {
   "cell_type": "code",
   "execution_count": 59,
   "metadata": {
    "collapsed": false
   },
   "outputs": [
    {
     "name": "stdout",
     "output_type": "stream",
     "text": [
      ">>>>>>>>>>>>>>>>>>>>>>>>>>>>>>>\n",
      "Training Result: \n",
      "Precison: 0.174\n",
      "Recall: 0.611\n",
      "F1: 0.271\n",
      "ROC AUC: 0.606\n",
      "[[3854, 3826], [514, 806]]\n"
     ]
    },
    {
     "data": {
      "image/png": "[encoded data removed]",
      "text/plain": [
       "<matplotlib.figure.Figure at 0x11c402f10>"
      ]
     },
     "metadata": {},
     "output_type": "display_data"
    },
    {
     "name": "stdout",
     "output_type": "stream",
     "text": [
      ">>>>>>>>>>>>>>>>>>>>>>>>>>>>>>>\n",
      "Test Result: \n",
      "Precison: 0.172\n",
      "Recall: 0.607\n",
      "F1: 0.269\n",
      "ROC AUC: 0.601\n",
      "[[3824, 3856], [519, 801]]\n"
     ]
    },
    {
     "data": {
      "image/png": "[encoded data removed]",
      "text/plain": [
       "<matplotlib.figure.Figure at 0x11c09f110>"
      ]
     },
     "metadata": {},
     "output_type": "display_data"
    }
   ],
   "source": [
    "model_eval(clf_g_l1, X_train, y_train, X_test, y_test)"
   ]
  },
  {
   "cell_type": "markdown",
   "metadata": {},
   "source": [
    "## 5. Feature Importance "
   ]
  },
  {
   "cell_type": "code",
   "execution_count": 59,
   "metadata": {
    "collapsed": false
   },
   "outputs": [],
   "source": [
    "def plot_top30_positive(clf, X):\n",
    "    feat_labels = X.columns.values.tolist()\n",
    "    feat_labels = [unicode(s, \"utf-8\") for s in feat_labels]\n",
    "    try:\n",
    "        coef_result = zip(feat_labels, clf.coef_[0])\n",
    "    except:\n",
    "        coef_result = zip(feat_labels, clf.feature_importances_)\n",
    "    coef_result = sorted(coef_result, key=lambda x: x[1], reverse=True)[:30]\n",
    "    fig = plt.figure()\n",
    "    ax = plt.subplot(111)\n",
    "    width=0.8\n",
    "    ax.bar(range(len(coef_result)), [x[1] for x in coef_result], alpha = 0.5,width=width)\n",
    "    ax.set_xticks(np.arange(len(coef_result)) + width/2)\n",
    "    ax.set_xticklabels([x[0] for x in coef_result], rotation=90)\n",
    "    plt.title(\"Top 30 Important Feature Coefficients for Adopted User\")\n",
    "    plt.savefig('feature_importance.png')"
   ]
  },
  {
   "cell_type": "code",
   "execution_count": 60,
   "metadata": {
    "collapsed": false
   },
   "outputs": [
    {
     "data": {
      "image/png": "[encoded data removed]",
      "text/plain": [
       "<matplotlib.figure.Figure at 0x11c40e150>"
      ]
     },
     "metadata": {},
     "output_type": "display_data"
    }
   ],
   "source": [
    "plot_top30_positive(clf_g_l1.best_estimator_, X_f)"
   ]
  },
  {
   "cell_type": "code",
   "execution_count": 61,
   "metadata": {
    "collapsed": true
   },
   "outputs": [],
   "source": [
    "def plot_top30_important(clf, X):\n",
    "    feat_labels = X.columns.values.tolist()\n",
    "    feat_labels = [unicode(s, \"utf-8\") for s in feat_labels]\n",
    "    try:\n",
    "        coef_result = zip(feat_labels, clf.coef_[0])\n",
    "    except:\n",
    "        coef_result = zip(feat_labels, clf.feature_importances_)\n",
    "    coef_result = sorted(coef_result, key=lambda x: abs(x[1]), reverse=True)[:30]\n",
    "    fig = plt.figure()\n",
    "    ax = plt.subplot(111)\n",
    "    width=0.8\n",
    "    ax.bar(range(len(coef_result)), [x[1] for x in coef_result], alpha = 0.5,width=width)\n",
    "    ax.set_xticks(np.arange(len(coef_result)) + width/2)\n",
    "    ax.set_xticklabels([x[0] for x in coef_result], rotation=90)\n",
    "    plt.title(\"Top 30 Important Feature coefficients\")\n",
    "    plt.savefig('feature_importance2.png')"
   ]
  },
  {
   "cell_type": "code",
   "execution_count": 62,
   "metadata": {
    "collapsed": false
   },
   "outputs": [
    {
     "data": {
      "image/png": "[encoded data removed]",
      "text/plain": [
       "<matplotlib.figure.Figure at 0x11c1bf110>"
      ]
     },
     "metadata": {},
     "output_type": "display_data"
    }
   ],
   "source": [
    "plot_top30_important(clf_g_l1.best_estimator_, X_f)"
   ]
  },
  {
   "cell_type": "markdown",
   "metadata": {
    "collapsed": true
   },
   "source": [
    "### Figure 'Top 30 Important Feature Coefficients for Adopted User' should be more useful here, since these features have positive effect in predicting adopted user"
   ]
  },
  {
   "cell_type": "code",
   "execution_count": null,
   "metadata": {
    "collapsed": true
   },
   "outputs": [],
   "source": []
  },
  {
   "cell_type": "code",
   "execution_count": null,
   "metadata": {
    "collapsed": true
   },
   "outputs": [],
   "source": []
  },
  {
   "cell_type": "code",
   "execution_count": 111,
   "metadata": {
    "collapsed": true
   },
   "outputs": [],
   "source": []
  },
  {
   "cell_type": "code",
   "execution_count": null,
   "metadata": {
    "collapsed": true
   },
   "outputs": [],
   "source": []
  }
 ],
 "metadata": {
  "anaconda-cloud": {},
  "kernelspec": {
   "display_name": "Python [conda root]",
   "language": "python",
   "name": "conda-root-py"
  },
  "language_info": {
   "codemirror_mode": {
    "name": "ipython",
    "version": 3
   },
   "file_extension": ".py",
   "mimetype": "text/x-python",
   "name": "python",
   "nbconvert_exporter": "python",
   "pygments_lexer": "ipython3",
   "version": "3.5.2"
  }
 },
 "nbformat": 4,
 "nbformat_minor": 0
}
